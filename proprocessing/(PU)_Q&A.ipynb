{
 "cells": [
  {
   "cell_type": "code",
   "execution_count": 1,
   "id": "d90a6a7c",
   "metadata": {},
   "outputs": [],
   "source": [
    "import numpy as np\n",
    "import openai\n",
    "import pandas as pd\n",
    "import pickle\n",
    "import tiktoken\n",
    "\n",
    "COMPLETIONS_MODEL = \"text-davinci-003\"\n",
    "EMBEDDING_MODEL = \"text-embedding-ada-002\""
   ]
  },
  {
   "cell_type": "code",
   "execution_count": 2,
   "id": "9f62507a",
   "metadata": {},
   "outputs": [],
   "source": [
    "openai.api_key = ''#input your own openai api key"
   ]
  },
  {
   "cell_type": "code",
   "execution_count": 3,
   "id": "f90eaa11",
   "metadata": {},
   "outputs": [],
   "source": [
    "df= pd.read_csv('dataset_pu_dg_token_terbaru.csv')"
   ]
  },
  {
   "cell_type": "code",
   "execution_count": 4,
   "id": "a8b000cb",
   "metadata": {},
   "outputs": [
    {
     "data": {
      "text/html": [
       "<div>\n",
       "<style scoped>\n",
       "    .dataframe tbody tr th:only-of-type {\n",
       "        vertical-align: middle;\n",
       "    }\n",
       "\n",
       "    .dataframe tbody tr th {\n",
       "        vertical-align: top;\n",
       "    }\n",
       "\n",
       "    .dataframe thead th {\n",
       "        text-align: right;\n",
       "    }\n",
       "</style>\n",
       "<table border=\"1\" class=\"dataframe\">\n",
       "  <thead>\n",
       "    <tr style=\"text-align: right;\">\n",
       "      <th></th>\n",
       "      <th>kategori</th>\n",
       "      <th>pasal</th>\n",
       "      <th>konten</th>\n",
       "      <th>tokens</th>\n",
       "    </tr>\n",
       "  </thead>\n",
       "  <tbody>\n",
       "    <tr>\n",
       "      <th>0</th>\n",
       "      <td>PERATURAN MENTERI PEKERJAAN UMUM REPUBLIK INDO...</td>\n",
       "      <td>13/PRT/M/2011</td>\n",
       "      <td>TATA CARA PEMELIHARAAN DAN PENILIKAN JALAN</td>\n",
       "      <td>65</td>\n",
       "    </tr>\n",
       "    <tr>\n",
       "      <th>1</th>\n",
       "      <td>BAB I\\nKETENTUAN UMUM</td>\n",
       "      <td>pasal 1</td>\n",
       "      <td>Dalam Peraturan Menteri ini yang dimaksud deng...</td>\n",
       "      <td>2355</td>\n",
       "    </tr>\n",
       "    <tr>\n",
       "      <th>2</th>\n",
       "      <td>BAB II\\nMAKSUD, TUJUAN, DAN LINGKUP PENGATURAN</td>\n",
       "      <td>pasal 2</td>\n",
       "      <td>(1) Pengaturan tata cara pemeliharaan dan peni...</td>\n",
       "      <td>413</td>\n",
       "    </tr>\n",
       "    <tr>\n",
       "      <th>3</th>\n",
       "      <td>BAB III\\nRENCANA UMUM PEMELIHARAAN JALAN</td>\n",
       "      <td>Pasal 3</td>\n",
       "      <td>(1) Penyelenggara jalan wajib menyusun rencana...</td>\n",
       "      <td>129</td>\n",
       "    </tr>\n",
       "    <tr>\n",
       "      <th>4</th>\n",
       "      <td>BAB III\\nRENCANA UMUM PEMELIHARAAN JALAN</td>\n",
       "      <td>Pasal 4</td>\n",
       "      <td>(1) Sistem informasi sebagaimana dimaksud dala...</td>\n",
       "      <td>146</td>\n",
       "    </tr>\n",
       "    <tr>\n",
       "      <th>5</th>\n",
       "      <td>BAB III\\nRENCANA UMUM PEMELIHARAAN JALAN</td>\n",
       "      <td>Pasal 5</td>\n",
       "      <td>(1) Sistem manajemen aset sebagaimana dimaksud...</td>\n",
       "      <td>614</td>\n",
       "    </tr>\n",
       "    <tr>\n",
       "      <th>6</th>\n",
       "      <td>BAB III\\nRENCANA UMUM PEMELIHARAAN JALAN</td>\n",
       "      <td>Pasal 6</td>\n",
       "      <td>(1) Rencana Penanganan pemeliharaan jalan seba...</td>\n",
       "      <td>1036</td>\n",
       "    </tr>\n",
       "  </tbody>\n",
       "</table>\n",
       "</div>"
      ],
      "text/plain": [
       "                                            kategori          pasal  \\\n",
       "0  PERATURAN MENTERI PEKERJAAN UMUM REPUBLIK INDO...  13/PRT/M/2011   \n",
       "1                             BAB I\\nKETENTUAN UMUM         pasal 1   \n",
       "2    BAB II\\nMAKSUD, TUJUAN, DAN LINGKUP PENGATURAN         pasal 2   \n",
       "3           BAB III\\nRENCANA UMUM PEMELIHARAAN JALAN        Pasal 3   \n",
       "4           BAB III\\nRENCANA UMUM PEMELIHARAAN JALAN        Pasal 4   \n",
       "5           BAB III\\nRENCANA UMUM PEMELIHARAAN JALAN       Pasal 5    \n",
       "6           BAB III\\nRENCANA UMUM PEMELIHARAAN JALAN        Pasal 6   \n",
       "\n",
       "                                              konten  tokens  \n",
       "0         TATA CARA PEMELIHARAAN DAN PENILIKAN JALAN      65  \n",
       "1  Dalam Peraturan Menteri ini yang dimaksud deng...    2355  \n",
       "2  (1) Pengaturan tata cara pemeliharaan dan peni...     413  \n",
       "3  (1) Penyelenggara jalan wajib menyusun rencana...     129  \n",
       "4  (1) Sistem informasi sebagaimana dimaksud dala...     146  \n",
       "5  (1) Sistem manajemen aset sebagaimana dimaksud...     614  \n",
       "6  (1) Rencana Penanganan pemeliharaan jalan seba...    1036  "
      ]
     },
     "execution_count": 4,
     "metadata": {},
     "output_type": "execute_result"
    }
   ],
   "source": [
    "df"
   ]
  },
  {
   "cell_type": "code",
   "execution_count": 5,
   "id": "342f3b20",
   "metadata": {},
   "outputs": [
    {
     "name": "stdout",
     "output_type": "stream",
     "text": [
      "7 rows in the data.\n"
     ]
    }
   ],
   "source": [
    "df = df.set_index([\"kategori\", \"pasal\"])\n",
    "print(f\"{len(df)} rows in the data.\")"
   ]
  },
  {
   "cell_type": "code",
   "execution_count": 6,
   "id": "df9ae8cf",
   "metadata": {},
   "outputs": [],
   "source": [
    "df = df.loc[~df.index.duplicated(keep='first')]"
   ]
  },
  {
   "cell_type": "code",
   "execution_count": 7,
   "id": "1a4e29cc",
   "metadata": {},
   "outputs": [],
   "source": [
    "def get_embedding(text: str, model: str=EMBEDDING_MODEL) -> list[float]:\n",
    "    result = openai.Embedding.create(\n",
    "      model=model,\n",
    "      input=text\n",
    "    )\n",
    "    return result[\"data\"][0][\"embedding\"]"
   ]
  },
  {
   "cell_type": "code",
   "execution_count": 8,
   "id": "663f65dc",
   "metadata": {},
   "outputs": [],
   "source": [
    "def load_embeddings(fname: str) -> dict[tuple[str, str], list[float]]:\n",
    "    \"\"\"\n",
    "    Read the document embeddings and their keys from a CSV.\n",
    "    \n",
    "    fname is the path to a CSV with exactly these named columns: \n",
    "        \"title\", \"heading\", \"0\", \"1\", ... up to the length of the embedding vectors.\n",
    "    \"\"\"\n",
    "    \n",
    "    df = pd.read_csv(fname, header=0)\n",
    "    max_dim = max([int(c) for c in df.columns if c != \"kategori\" and c != \"pasal\"])\n",
    "    return {\n",
    "           (r.kategori, r.pasal): [r[str(i)] for i in range(max_dim + 1)] for _, r in df.iterrows()\n",
    "    }"
   ]
  },
  {
   "cell_type": "code",
   "execution_count": 9,
   "id": "ba230107",
   "metadata": {},
   "outputs": [],
   "source": [
    "document_embeddings = load_embeddings(\"doc_pu_with_embeddings.csv\")"
   ]
  },
  {
   "cell_type": "code",
   "execution_count": 10,
   "id": "02d3fc4e",
   "metadata": {},
   "outputs": [],
   "source": [
    "def vector_similarity(x: list[float], y: list[float]) -> float:\n",
    "    \"\"\"\n",
    "    Returns the similarity between two vectors.\n",
    "    \n",
    "    Because OpenAI Embeddings are normalized to length 1, the cosine similarity is the same as the dot product.\n",
    "    \"\"\"\n",
    "    return np.dot(np.array(x), np.array(y))\n",
    "\n",
    "def order_document_sections_by_query_similarity(query: str, contexts: dict[(str, str), np.array]) -> list[(float, (str, str))]:\n",
    "    \"\"\"\n",
    "    Find the query embedding for the supplied query, and compare it against all of the pre-calculated document embeddings\n",
    "    to find the most relevant sections. \n",
    "    \n",
    "    Return the list of document sections, sorted by relevance in descending order.\n",
    "    \"\"\"\n",
    "    query_embedding = get_embedding(query)\n",
    "    \n",
    "    document_similarities = sorted([\n",
    "        (vector_similarity(query_embedding, doc_embedding), doc_index) for doc_index, doc_embedding in contexts.items()\n",
    "    ], reverse=True)\n",
    "    \n",
    "    return document_similarities"
   ]
  },
  {
   "cell_type": "code",
   "execution_count": 11,
   "id": "333446cb",
   "metadata": {},
   "outputs": [
    {
     "data": {
      "text/plain": [
       "'Context separator contains 3 tokens'"
      ]
     },
     "execution_count": 11,
     "metadata": {},
     "output_type": "execute_result"
    }
   ],
   "source": [
    "MAX_SECTION_LEN = 3000\n",
    "SEPARATOR = \"\\n* \"\n",
    "ENCODING = \"cl100k_base\"  # encoding for text-embedding-ada-002\n",
    "\n",
    "encoding = tiktoken.get_encoding(ENCODING)\n",
    "separator_len = len(encoding.encode(SEPARATOR))\n",
    "\n",
    "f\"Context separator contains {separator_len} tokens\""
   ]
  },
  {
   "cell_type": "code",
   "execution_count": 12,
   "id": "9f417ede",
   "metadata": {},
   "outputs": [],
   "source": [
    "def construct_prompt(question: str, context_embeddings: dict, df: pd.DataFrame) -> str:\n",
    "    \"\"\"\n",
    "    Fetch relevant \n",
    "    \"\"\"\n",
    "    most_relevant_document_sections = order_document_sections_by_query_similarity(question, context_embeddings)\n",
    "    \n",
    "    chosen_sections = []\n",
    "    chosen_sections_len = 0\n",
    "    chosen_sections_indexes = []\n",
    "     \n",
    "    for _, section_index in most_relevant_document_sections:\n",
    "        # Add contexts until we run out of space.        \n",
    "        document_section = df.loc[section_index]\n",
    "        \n",
    "        chosen_sections_len += document_section.tokens + separator_len\n",
    "        if chosen_sections_len > MAX_SECTION_LEN:\n",
    "            break\n",
    "            \n",
    "        chosen_sections.append(SEPARATOR + document_section.konten.replace(\"\\n\", \" \"))\n",
    "        chosen_sections_indexes.append(str(section_index))\n",
    "            \n",
    "    # Useful diagnostic information\n",
    "    print(f\"Selected {len(chosen_sections)} document sections:\")\n",
    "    print(\"\\n\".join(chosen_sections_indexes))\n",
    "    \n",
    "    header = \"\"\"Jawab pertanyaan sejujur mungkin menggunakan konteks yang disediakan, dan jika jawabannya tidak terdapat dalam teks di bawah ini, katakan \"Saya tidak tahu.\"\\n\\nContext:\\n\"\"\"\n",
    "    \n",
    "    return header + \"\".join(chosen_sections) + \"\\n\\n Q: \" + question + \"\\n A:\""
   ]
  },
  {
   "cell_type": "code",
   "execution_count": 13,
   "id": "a0c1ee17",
   "metadata": {},
   "outputs": [
    {
     "name": "stdout",
     "output_type": "stream",
     "text": [
      "Selected 3 document sections:\n",
      "('BAB I\\nKETENTUAN UMUM ', 'pasal 1')\n",
      "('BAB III\\nRENCANA UMUM PEMELIHARAAN JALAN', 'Pasal 4')\n",
      "('BAB III\\nRENCANA UMUM PEMELIHARAAN JALAN', 'Pasal 3')\n",
      "===\n",
      " Jawab pertanyaan sejujur mungkin menggunakan konteks yang disediakan, dan jika jawabannya tidak terdapat dalam teks di bawah ini, katakan \"Saya tidak tahu.\"\n",
      "\n",
      "Context:\n",
      "\n",
      "* Dalam Peraturan Menteri ini yang dimaksud dengan: 1. Jalan adalah prasarana transportasi darat yang meliputi segala bagian jalan, termasuk bangunan pelengkap dan perlengkapannya yang diperuntukkan bagi lalulintas, yang berada pada permukaan tanah, di atas permukaan tanah, di bawah permukaan tanah dan/atau air, serta di atas permukaan air, kecuali jalan kereta api, jalan lori, dan jalan kabel. 2. Jalan Umum adalah jalan yang diperuntukan bagi lalu lintas umum. 3. Bangunan pelengkap adalah bangunan untuk mendukung fungsi dan keamanan konstruksi jalan yang meliputi jembatan, terowongan, ponton, lintas atas (flyover, elevated road), lintas bawah (underpass), tempat parkir, gorong-gorong, tembok penahan, dan saluran tepi jalan dibangun sesuai dengan persyaratan teknis. 4. Perlengkapan Jalan adalah sarana yang dimaksudkan untuk keselamatan, keamanan, ketertiban, dan kelancaran lalu-lintas serta kemudahan bagi pengguna jalan dalam berlalu-lintas yang meliputi marka jalan, rambu lalu-lintas, alat pemberi isyarat lalulintas, lampu penerangan jalan, rel pengaman (guardrail), dan penghalang lalu-lintas (traffic barrier); 5. Perlengkapan jalan yang berkaitan langsung dengan pengguna jalan adalah bangunan atau alat yang dimaksudkan untuk keselamatan, keamanan, ketertiban, dan kelancaran lalu lintas serta kemudahan bagi pengguna jalan dalam berlalu lintas. 6. Perlengkapan jalan yang berkaitan tidak langsung dengan pengguna jalan adalah bangunan yang dimaksudkan untuk keselamatan pengguna jalan, dan pengamanan aset jalan, dan informasi pengguna jalan. 7. Bagian-bagian jalan adalah bagian-bagian jalan yang meliputi ruang manfaat jalan, ruang milik jalan, dan ruang pengawasan jalan. 8. Ruang manfaat jalan yang selanjutnya disebut Rumaja adalah ruang sepanjang jalan yang dibatasi oleh lebar, tinggi dan kedalaman tertentu yang ditetapkan oleh penyelenggara jalan yang bersangkutan guna dimanfaatkan untuk konstruksi jalan dan terdiri atas badan jalan, saluran tepi jalan, serta ambang pengamannya. 9. Ruang milik jalan yang selanjutnya disebut Rumija adalah sejalur tanah tertentu di luar ruang manfaat jalan yang dibatasi dengan tanda batas ruang milik jalan yang dimaksudkan untuk memenuhi persyaratan keluasan keamanan penggunaan jalan dan diperuntukkan bagi ruang manfaat jalan, pelebaran jalan, dan penambahan jalur lalu lintas dimasa akan datang serta kebutuhan ruangan untuk pengamanan jalan. 10. Ruang pengawasan jalan yang selanjutnya disebut Ruwasja adalah ruang tertentu di luar ruang milik jalan yang penggunaannya diawasi oleh penyelenggara jalan agar tidak mengganggu pandangan pengemudi, konstruksi bangunan jalan dan fungsi jalan. 11. Penyelenggara jalan adalah pihak yang melakukan pengaturan, pembinaan, pembangunan, dan pengawasan jalan sesuai dengan kewenangannya. 12. Pemeliharaan jalan adalah kegiatan penanganan jalan, berupa pencegahan, perawatan dan perbaikan yang diperlukan untuk mempertahankan kondisi jalan agar tetap berfungsi secara optimal melayani lalu lintas sehingga umur rencana yang ditetapkan dapat tercapai. 13. Pemeliharaan rutin jalan adalah kegiatan merawat serta memperbaiki kerusakankerusakan yang terjadi pada ruas-ruas jalan dengan kondisi pelayanan mantap. 14. Jalan dengan kondisi pelayanan mantap adalah ruas-ruas jalan dengan kondisi baik atau sedang sesuai umur rencana yang diperhitungkan serta mengikuti suatu standar tertentu. www.djpp.depkumham.go.id -3- 15. Pemeliharaan berkala jalan adalah kegiatan penanganan pencegahan terjadinya kerusakan yang lebih luas dan setiap kerusakan yang diperhitungkan dalam desain agar penurunan kondisi jalan dapat dikembalikan pada kondisi kemantapan sesuai dengan rencana. 16. Rehabilitasi jalan adalah kegiatan penanganan pencegahan terjadinya kerusakan yang luas dan setiap kerusakan yang tidak diperhitungkan dalam desain, yang berakibat menurunnya kondisi kemantapan pada bagian/tempat tertentu dari suatu ruas jalan dengan kondisi rusak ringan, agar penurunan kondisi kemantapan tersebut dapat dikembalikan pada kondisi kemantapan sesuai dengan rencana. 17. Rekonstruksi adalah peningkatan struktur yang merupakan kegiatan penanganan untuk dapat meningkatkan kemampuan bagian ruas jalan yang dalam kondisi rusak berat agar bagian jalan tersebut mempunyai kondisi mantap kembali sesuai dengan umur rencana yang ditetapkan. 18. Penilikan jalan adalah kegiatan pelaksanaan, pengamatan, pemanfaatan jalan dan kondisi jalan setiap hari dan laporan pengamatan serta usulan tindakan terhadap hasil pengamatan disampaikan kepada penyelenggara jalan atau instansi yang ditunjuk. 19. Penilik jalan adalah tenaga pelaksana yang melakukan penilikan jalan. 20. Pemrograman adalah kegiatan untuk menentukan jenis-jenis pekerjaan yang akan dilaksanakan berdasarkan batasan biaya yang disetujui, pembuatan jadwal pelaksanaan, jadwal pengadaan, serta monitoring dan evaluasi maupun revisi program jika diperlukan. 21. Perkerasan berpenutup adalah perkerasan permukaan dengan bahan perekat sebagai pengikat agregat baik bersifat struktur maupun non-struktur, misalnya perkerasan beraspal, perkerasan bersemen. 22. Pembentukan kembali permukaan (grading operation) adalah kegiatan pemeliharaan rutin jalan kerikil/tanah (gravel/unpaved roads) yang dilakukan dengan seperangkat peralatan Unit Pemeliharaan Rutin (UPR) jalan yang terdiri antara lain alat perata mekanis, truk distribusi air, truk pengangkut material, alat pemadat, alat bantu lainnya membentuk permukaan, mengisi kembali material kerikil/tanah yang hilang, memadatkan, membersihkan tumbuh-tumbuhan, semak, pepohonan, dan melancarkan drainase permukaan jalan secara rutin dan periodik sesuai rencana agar jalan tetap dapat berfungsi melayani arus lalu-lintas secara berkeselamatan. 23. Menteri adalah Menteri Pekerjaan Umum. Pemerintah Daerah adalah gubernur, bupati atau walikota, dan perangkat daerah sebagai unsur penyelenggara pemerintahan daerah. \n",
      "* (1) Sistem informasi sebagaimana dimaksud dalam Pasal 3 ayat (2) huruf a meliputi kegiatan pengumpulan, pengolahan, dan pemeliharaan data untuk menghasilkan informasi dan rekomendasi penanganan pemeliharaan jalan. (2) Data sebagaimana dimaksud pada ayat (1) meliputi data inventarisasi jalan dan data kondisi jalan. \n",
      "* (1) Penyelenggara jalan wajib menyusun rencana pemeliharaan jalan. (2) Rencana umum pemeliharaan jalan sebagaimana dimaksud pada ayat (1) meliputi: a. sistem informasi; b. sistem manajemen aset; dan c. rencana penanganan pemeliharaan jalan. \n",
      "\n",
      " Q: apa isi pasal 1\n",
      " A:\n"
     ]
    }
   ],
   "source": [
    "prompt = construct_prompt(\n",
    "    \"apa isi pasal 1\",\n",
    "    document_embeddings,\n",
    "    df\n",
    ")\n",
    "\n",
    "print(\"===\\n\", prompt)"
   ]
  },
  {
   "cell_type": "code",
   "execution_count": 20,
   "id": "050d286b",
   "metadata": {},
   "outputs": [],
   "source": [
    "COMPLETIONS_API_PARAMS = {\n",
    "    # We use temperature of 0.0 because it gives the most predictable, factual answer.\n",
    "    \"temperature\": 0.0,\n",
    "    \"max_tokens\": 1000,\n",
    "    \"model\": COMPLETIONS_MODEL,\n",
    "}"
   ]
  },
  {
   "cell_type": "code",
   "execution_count": 21,
   "id": "7479b3bf",
   "metadata": {},
   "outputs": [],
   "source": [
    "def answer_query_with_context(\n",
    "    query: str,\n",
    "    df: pd.DataFrame,\n",
    "    document_embeddings: dict[(str, str), np.array],\n",
    "    show_prompt: bool = False\n",
    ") -> str:\n",
    "    prompt = construct_prompt(\n",
    "        query,\n",
    "        document_embeddings,\n",
    "        df\n",
    "    )\n",
    "    \n",
    "    if show_prompt:\n",
    "        print(prompt)\n",
    "\n",
    "    response = openai.Completion.create(\n",
    "                prompt=prompt,\n",
    "                **COMPLETIONS_API_PARAMS\n",
    "            )\n",
    "\n",
    "    return response[\"choices\"][0][\"text\"].strip(\" \\n\")"
   ]
  },
  {
   "cell_type": "code",
   "execution_count": 23,
   "id": "d32d9df1",
   "metadata": {},
   "outputs": [
    {
     "name": "stdout",
     "output_type": "stream",
     "text": [
      "Selected 2 document sections:\n",
      "('BAB I\\nKETENTUAN UMUM ', 'pasal 1')\n",
      "('BAB III\\nRENCANA UMUM PEMELIHARAAN JALAN', 'Pasal 3')\n"
     ]
    },
    {
     "data": {
      "text/plain": [
       "'Peraturan Menteri Pekerjaan Umum Republik Indonesia adalah peraturan yang mengatur tentang jalan, jalan umum, bangunan pelengkap, perlengkapan jalan, bagian-bagian jalan, ruang manfaat jalan, ruang milik jalan, ruang pengawasan jalan, penyelenggara jalan, pemeliharaan jalan, rehabilitasi jalan, rekonstruksi jalan, penilikan jalan, pemrograman, perkerasan berpenutup, pembentukan kembali permukaan, dan Menteri.'"
      ]
     },
     "execution_count": 23,
     "metadata": {},
     "output_type": "execute_result"
    }
   ],
   "source": [
    "answer_query_with_context(\"PERATURAN MENTERI PEKERJAAN UMUM REPUBLIK INDONESIA  ?\", df, document_embeddings)"
   ]
  },
  {
   "cell_type": "code",
   "execution_count": 24,
   "id": "fcb5ece4",
   "metadata": {},
   "outputs": [
    {
     "name": "stdout",
     "output_type": "stream",
     "text": [
      "Selected 3 document sections:\n",
      "('BAB I\\nKETENTUAN UMUM ', 'pasal 1')\n",
      "('BAB III\\nRENCANA UMUM PEMELIHARAAN JALAN', 'Pasal 4')\n",
      "('BAB III\\nRENCANA UMUM PEMELIHARAAN JALAN', 'Pasal 3')\n"
     ]
    },
    {
     "data": {
      "text/plain": [
       "'Dalam Peraturan Menteri ini yang dimaksud dengan: 1. Jalan adalah prasarana transportasi darat yang meliputi segala bagian jalan, termasuk bangunan pelengkap dan perlengkapannya yang diperuntukkan bagi lalulintas, yang berada pada permukaan tanah, di atas permukaan tanah, di bawah permukaan tanah dan/atau air, serta di atas permukaan air, kecuali jalan kereta api, jalan lori, dan jalan kabel. 2. Jalan Umum adalah jalan yang diperuntukan bagi lalu lintas umum. 3. Bangunan pelengkap adalah bangunan untuk mendukung fungsi dan keamanan konstruksi jalan yang meliputi jembatan, terowongan, ponton, lintas atas (flyover, elevated road), lintas bawah (underpass), tempat parkir, gorong-gorong, tembok penahan, dan saluran tepi jalan dibangun sesuai dengan persyaratan teknis. 4. Perlengkapan Jalan adalah sarana yang dimaksudkan untuk keselamatan, keamanan, ketertiban, dan kelancaran lalu-lintas serta kemudahan bagi pengguna jalan dalam berlalu-lintas yang meliputi marka jalan, rambu lalu-lintas, alat pemberi isyarat lalulintas, lampu penerangan jalan, rel pengaman (guardrail), dan penghalang lalu-lintas (traffic barrier); 5. Perlengkapan jalan yang berkaitan langsung dengan pengguna jalan adalah bangunan atau alat yang dimaksudkan untuk keselamatan, keamanan, ketertiban, dan kelancaran lalu lintas serta kemudahan bagi pengguna jalan dalam berlalu lintas. 6. Perlengkapan jalan yang berkaitan tidak langsung dengan pengguna jalan adalah bangunan yang dimaksudkan untuk keselamatan pengguna jalan, dan pengamanan aset jalan, dan informasi pengguna jalan. 7. Bagian-bagian jalan adalah bagian-bagian jalan yang meliputi ruang manfaat jalan, ruang milik jalan, dan ruang pengawasan jalan. 8. Ruang manfaat jalan yang selanjutnya disebut Rumaja adalah ruang sepanjang jalan yang dibatasi oleh lebar, tinggi dan kedalaman tertentu yang ditetapkan oleh penyelenggara jalan yang bersangkutan guna dimanfaatkan untuk konstruksi jalan dan terdiri atas badan jalan, saluran tepi jalan, serta ambang pengamannya. 9. Ruang milik jalan yang selanjutnya disebut Rumija adalah sejalur tanah tertentu di luar ruang manfaat jalan yang dibatasi dengan tanda batas ruang milik jalan yang dimaksudkan untuk memenuhi persyaratan keluasan keamanan penggunaan jalan dan diperuntukkan bagi ruang manfaat jalan, pelebaran jalan, dan penambahan jalur lalu lintas dimasa akan datang serta kebutuhan ruangan untuk pengamanan jalan. 10. Ruang pengawasan jalan yang selanjutnya disebut Ruwasja adalah ruang tertentu di luar ruang milik jalan yang penggunaannya diawasi oleh penyelenggara jalan agar tidak mengganggu pandangan pengemudi, konstruksi'"
      ]
     },
     "execution_count": 24,
     "metadata": {},
     "output_type": "execute_result"
    }
   ],
   "source": [
    "answer_query_with_context(\"bunyi pasal 1?\", df, document_embeddings)"
   ]
  },
  {
   "cell_type": "code",
   "execution_count": 25,
   "id": "7488b56c",
   "metadata": {},
   "outputs": [
    {
     "name": "stdout",
     "output_type": "stream",
     "text": [
      "Selected 3 document sections:\n",
      "('BAB I\\nKETENTUAN UMUM ', 'pasal 1')\n",
      "('BAB III\\nRENCANA UMUM PEMELIHARAAN JALAN', 'Pasal 3')\n",
      "('PERATURAN MENTERI PEKERJAAN UMUM REPUBLIK INDONESIA\\nNOMOR 13/PRT/M/2011', '13/PRT/M/2011')\n"
     ]
    },
    {
     "data": {
      "text/plain": [
       "'Rehabilitasi jalan adalah kegiatan penanganan pencegahan terjadinya kerusakan yang luas dan setiap kerusakan yang tidak diperhitungkan dalam desain, yang berakibat menurunnya kondisi kemantapan pada bagian/tempat tertentu dari suatu ruas jalan dengan kondisi rusak ringan, agar penurunan kondisi kemantapan tersebut dapat dikembalikan pada kondisi kemantapan sesuai dengan rencana.'"
      ]
     },
     "execution_count": 25,
     "metadata": {},
     "output_type": "execute_result"
    }
   ],
   "source": [
    "answer_query_with_context(\"rehabilitas jalan adalah?\", df, document_embeddings)"
   ]
  },
  {
   "cell_type": "code",
   "execution_count": null,
   "id": "e525feb2",
   "metadata": {},
   "outputs": [],
   "source": []
  }
 ],
 "metadata": {
  "kernelspec": {
   "display_name": "Python 3 (ipykernel)",
   "language": "python",
   "name": "python3"
  },
  "language_info": {
   "codemirror_mode": {
    "name": "ipython",
    "version": 3
   },
   "file_extension": ".py",
   "mimetype": "text/x-python",
   "name": "python",
   "nbconvert_exporter": "python",
   "pygments_lexer": "ipython3",
   "version": "3.9.12"
  }
 },
 "nbformat": 4,
 "nbformat_minor": 5
}
